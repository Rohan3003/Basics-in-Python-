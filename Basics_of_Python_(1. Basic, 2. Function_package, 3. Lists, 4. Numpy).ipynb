{
 "cells": [
  {
   "cell_type": "markdown",
   "metadata": {},
   "source": [
    "<H2> 1. Basics"
   ]
  },
  {
   "cell_type": "code",
   "execution_count": 1,
   "metadata": {},
   "outputs": [
    {
     "data": {
      "text/plain": [
       "1440"
      ]
     },
     "execution_count": 1,
     "metadata": {},
     "output_type": "execute_result"
    }
   ],
   "source": [
    "# Basic numeric operation in python\n",
    "fare = 240\n",
    "ticket = 6\n",
    "total_cost = fare*ticket\n",
    "total_cost"
   ]
  },
  {
   "cell_type": "code",
   "execution_count": 1,
   "metadata": {},
   "outputs": [
    {
     "name": "stdout",
     "output_type": "stream",
     "text": [
      "<class 'float'>\n",
      "<class 'int'>\n",
      "<class 'str'>\n",
      "<class 'bool'>\n",
      "<class 'list'>\n"
     ]
    }
   ],
   "source": [
    "# Type of any variable\n",
    "height = 5.11\n",
    "print(type(height))\n",
    "\n",
    "day_of_week = 5\n",
    "print(type(day_of_week))\n",
    "\n",
    "message = 'Hello world its rohan learning data science with python'\n",
    "print(type(message))\n",
    "\n",
    "z = False\n",
    "print(type(z))\n",
    "\n",
    "a = [2,3,42,44]\n",
    "print(type(a))"
   ]
  },
  {
   "cell_type": "code",
   "execution_count": 5,
   "metadata": {},
   "outputs": [
    {
     "name": "stdout",
     "output_type": "stream",
     "text": [
      "5\n",
      "abcxyz\n",
      "[1, 3, 9, 10, 7, 1]\n",
      "1\n",
      "2\n",
      "0\n"
     ]
    }
   ],
   "source": [
    "# Behaviour with different types\n",
    "print(2+3)\n",
    "print('abc' + 'xyz')\n",
    "print([1,3,9] + [10,7,1])\n",
    "print(True + False)\n",
    "print(True + True)\n",
    "print(False + False)"
   ]
  },
  {
   "cell_type": "markdown",
   "metadata": {},
   "source": [
    "<H2> 2. Functions and Packages"
   ]
  },
  {
   "cell_type": "code",
   "execution_count": 1,
   "metadata": {},
   "outputs": [
    {
     "name": "stdout",
     "output_type": "stream",
     "text": [
      "2.67\n",
      "1.8\n",
      "1.85\n",
      "30.0\n",
      "26\n"
     ]
    }
   ],
   "source": [
    "# Basic functions :\n",
    "\n",
    "# Max function\n",
    "fam_height = [1.73, 2.67, 1.414, 2.44]\n",
    "print(max(fam_height))\n",
    "\n",
    "# Round funtion\n",
    "print(round(1.84999,1))\n",
    "print(round(1.84999,2))\n",
    "print(round(26.34,-1))\n",
    "print(round(26.34))     # By default it round offs to a 0 digits and returns a interger value"
   ]
  },
  {
   "cell_type": "code",
   "execution_count": 17,
   "metadata": {},
   "outputs": [
    {
     "name": "stdout",
     "output_type": "stream",
     "text": [
      "Help on built-in function round in module builtins:\n",
      "\n",
      "round(number, ndigits=None)\n",
      "    Round a number to a given precision in decimal digits.\n",
      "    \n",
      "    The return value is an integer if ndigits is omitted or None.  Otherwise\n",
      "    the return value has the same type as the number.  ndigits may be negative.\n",
      "\n"
     ]
    }
   ],
   "source": [
    "# Using help funcion in python to get the idea of round funtion\n",
    "help(round)"
   ]
  },
  {
   "cell_type": "code",
   "execution_count": 5,
   "metadata": {},
   "outputs": [
    {
     "name": "stdout",
     "output_type": "stream",
     "text": [
      "<class 'str'>\n",
      "Rohan\n",
      "ROHAN\n",
      "rohit\n",
      "<class 'float'>\n",
      "<class 'list'>\n",
      "0\n",
      "2\n",
      "4\n",
      "['Rohan', 23.3, 'Rohit', 21.2, 'Aniket', 30.3, 21.2, 'DadaJi Naroji']\n",
      "['Rohan', 23.3, 'Rohit', 21.2, 'Aniket', 30.3, 21.2, 'DadaJi Naroji', 56]\n"
     ]
    }
   ],
   "source": [
    "# Methods in python\n",
    "# Methods are functions that belong to a particular object \n",
    "name = 'rohan'\n",
    "print(type(name))\n",
    "print(name.capitalize())\n",
    "print(name.upper())\n",
    "print(name.replace('an','it'))\n",
    "# here \"name\" is the \"str\" object having methods like capitalize(), upper(), replace()\n",
    "\n",
    "age = 23.3\n",
    "print(type(age))\n",
    "#print(age.bit_length(2))\n",
    "\n",
    "fam = ['Rohan', 23.3,'Rohit',21.2,'Aniket',30.3,21.2]\n",
    "print(type(fam))\n",
    "print(fam.index('Rohan'))    # Index tells the position of 'Rohan' in list\n",
    "print(fam.count(21.2))       # Count tells how many times 21.2 has occured\n",
    "print(fam.index('Aniket'))\n",
    "# here \"age\" is the \"float\" object having methods like  bit_length(), count(), index(), append()\n",
    "\n",
    "fam.append('DadaJi Naroji')\n",
    "print(fam)\n",
    "fam.append(56)\n",
    "print(fam)\n",
    "# here \"fam\" is the \"list\" object haing methods like append()"
   ]
  },
  {
   "cell_type": "code",
   "execution_count": 61,
   "metadata": {},
   "outputs": [
    {
     "ename": "NameError",
     "evalue": "name 'array' is not defined",
     "output_type": "error",
     "traceback": [
      "\u001b[1;31m---------------------------------------------------------------------------\u001b[0m",
      "\u001b[1;31mNameError\u001b[0m                                 Traceback (most recent call last)",
      "\u001b[1;32m<ipython-input-61-18458c497334>\u001b[0m in \u001b[0;36m<module>\u001b[1;34m()\u001b[0m\n\u001b[0;32m      4\u001b[0m \u001b[1;31m# numpy, pandas, scikit-learn\u001b[0m\u001b[1;33m\u001b[0m\u001b[1;33m\u001b[0m\u001b[0m\n\u001b[0;32m      5\u001b[0m \u001b[1;32mimport\u001b[0m \u001b[0mnumpy\u001b[0m\u001b[1;33m\u001b[0m\u001b[0m\n\u001b[1;32m----> 6\u001b[1;33m \u001b[0marray\u001b[0m\u001b[1;33m(\u001b[0m\u001b[1;33m[\u001b[0m\u001b[1;36m1\u001b[0m\u001b[1;33m,\u001b[0m\u001b[1;36m2\u001b[0m\u001b[1;33m,\u001b[0m\u001b[1;36m3\u001b[0m\u001b[1;33m]\u001b[0m\u001b[1;33m)\u001b[0m\u001b[1;33m\u001b[0m\u001b[0m\n\u001b[0m",
      "\u001b[1;31mNameError\u001b[0m: name 'array' is not defined"
     ]
    }
   ],
   "source": [
    "# Packages in python \n",
    "# python has a lot of packages widely distributed making it easier to perform various operations\n",
    "# each package has its own methods and functions associated with them\n",
    "# numpy, pandas, scikit-learn\n",
    "\n",
    "import numpy\n",
    "array([1,2,3])"
   ]
  },
  {
   "cell_type": "code",
   "execution_count": 62,
   "metadata": {},
   "outputs": [
    {
     "data": {
      "text/plain": [
       "array([1, 2, 3])"
      ]
     },
     "execution_count": 62,
     "metadata": {},
     "output_type": "execute_result"
    }
   ],
   "source": [
    "import numpy\n",
    "numpy.array([1,2,3])   # assigning it properly like numpy.array"
   ]
  },
  {
   "cell_type": "code",
   "execution_count": 77,
   "metadata": {},
   "outputs": [
    {
     "ename": "TypeError",
     "evalue": "'builtin_function_or_method' object is not subscriptable",
     "output_type": "error",
     "traceback": [
      "\u001b[1;31m---------------------------------------------------------------------------\u001b[0m",
      "\u001b[1;31mTypeError\u001b[0m                                 Traceback (most recent call last)",
      "\u001b[1;32m<ipython-input-77-3609832899e6>\u001b[0m in \u001b[0;36m<module>\u001b[1;34m()\u001b[0m\n\u001b[0;32m      1\u001b[0m \u001b[1;32mfrom\u001b[0m \u001b[0mnumpy\u001b[0m \u001b[1;32mimport\u001b[0m \u001b[0marray\u001b[0m\u001b[1;33m\u001b[0m\u001b[0m\n\u001b[1;32m----> 2\u001b[1;33m \u001b[0mprint\u001b[0m\u001b[1;33m(\u001b[0m\u001b[0marray\u001b[0m\u001b[1;33m[\u001b[0m\u001b[1;36m1\u001b[0m\u001b[1;33m,\u001b[0m\u001b[1;36m2\u001b[0m\u001b[1;33m,\u001b[0m\u001b[1;36m3\u001b[0m\u001b[1;33m]\u001b[0m\u001b[1;33m)\u001b[0m\u001b[1;33m\u001b[0m\u001b[0m\n\u001b[0m",
      "\u001b[1;31mTypeError\u001b[0m: 'builtin_function_or_method' object is not subscriptable"
     ]
    }
   ],
   "source": [
    "from numpy import array\n",
    "array[1,2,3])"
   ]
  },
  {
   "cell_type": "code",
   "execution_count": 14,
   "metadata": {},
   "outputs": [
    {
     "ename": "SyntaxError",
     "evalue": "invalid syntax (<ipython-input-14-7da264d420ae>, line 6)",
     "output_type": "error",
     "traceback": [
      "\u001b[1;36m  File \u001b[1;32m\"<ipython-input-14-7da264d420ae>\"\u001b[1;36m, line \u001b[1;32m6\u001b[0m\n\u001b[1;33m    need to continue from part 2 last 2 slides of intro to python\u001b[0m\n\u001b[1;37m          ^\u001b[0m\n\u001b[1;31mSyntaxError\u001b[0m\u001b[1;31m:\u001b[0m invalid syntax\n"
     ]
    }
   ],
   "source": [
    "# unclear way of importing from numpy\n",
    "from numpy import array\n",
    "fam = ['Rohan', 23.3,'Rohit',21.2,'Aniket',30.3,21.2]\n",
    "\n",
    "\n",
    "need to continue from part 2 last 2 slides of intro to python\n"
   ]
  },
  {
   "cell_type": "code",
   "execution_count": null,
   "metadata": {},
   "outputs": [],
   "source": []
  },
  {
   "cell_type": "markdown",
   "metadata": {},
   "source": [
    "<h2> 3. Lists"
   ]
  },
  {
   "cell_type": "code",
   "execution_count": 45,
   "metadata": {},
   "outputs": [
    {
     "name": "stdout",
     "output_type": "stream",
     "text": [
      "['liz', 1.73, 'emma', 1.68, 'mom', 1.71, 'dad', 1.89]\n",
      "<class 'list'>\n",
      "[['liz', 1.73], ['emma', 1.68], ['mom,1.71'], ['dad', 1.89]]\n"
     ]
    }
   ],
   "source": [
    "# Python list\n",
    "# list can contain any kind of object like float, string etc \n",
    "# list are used when we need to store multiple values\n",
    "fam1 = [\"liz\", 1.73, \"emma\", 1.68, \"mom\", 1.71, \"dad\", 1.89]\n",
    "print(fam1)\n",
    "print(type(fam1))\n",
    "\n",
    "#list of list \n",
    "fam2 = [['liz',1.73],['emma',1.68],['mom,1.71'],['dad',1.89]]\n",
    "print(fam2)"
   ]
  },
  {
   "cell_type": "code",
   "execution_count": 3,
   "metadata": {},
   "outputs": [
    {
     "name": "stdout",
     "output_type": "stream",
     "text": [
      "emma\n",
      "['mom,1.71']\n",
      "1.89\n",
      "['liz', 1.73]\n"
     ]
    }
   ],
   "source": [
    "# Subsetting a list\n",
    "# it always starts with 0 index like an array\n",
    "print(fam1[2])\n",
    "print(fam2[2])\n",
    "\n",
    "print(fam1[-1])\n",
    "print(fam2[-4])"
   ]
  },
  {
   "cell_type": "code",
   "execution_count": 10,
   "metadata": {},
   "outputs": [
    {
     "name": "stdout",
     "output_type": "stream",
     "text": [
      "[['liz', 1.73], ['emma', 1.68], ['mom,1.71'], ['dad', 1.89]]\n",
      "[['liz', 1.73], ['emma', 1.68], ['mom,1.71'], ['dad', 1.89]]\n",
      "[['emma', 1.68], ['mom,1.71']]\n",
      "[['liz', 1.73], ['emma', 1.68], ['mom,1.71'], ['dad', 1.89]]\n",
      "[['liz', 1.73]]\n",
      "[['liz', 1.73], ['mom,1.71']]\n"
     ]
    }
   ],
   "source": [
    "fam2 = [['liz',1.73],['emma',1.68],['mom,1.71'],['dad',1.89]]\n",
    "# list slicing [inclusive : exclusive : steps]\n",
    "print(fam2)\n",
    "# complete list selected \n",
    "print(fam2[:])\n",
    "# except first and last  all other are selected\n",
    "print(fam2[1:3])\n",
    "print(fam2[:4])\n",
    "# only first value selected\n",
    "print(fam2[0:1])\n",
    "\n",
    "# Slicing of list in steps of 2 \n",
    "print(fam2[::2])"
   ]
  },
  {
   "cell_type": "code",
   "execution_count": 8,
   "metadata": {},
   "outputs": [
    {
     "name": "stdout",
     "output_type": "stream",
     "text": [
      "['liz', 1.73, 'emma', 1.68, 'mom', 1.71, 'dad', 1.86]\n",
      "['lisa', 1.74, 'emma', 1.68, 'mom', 1.71, 'dad', 1.86]\n",
      "['lisa', 1.74, 'emma', 1.68, 'mom', 1.71, 'dad', 1.86, 'me', 1.79]\n",
      "['lisa', 1.74, 1.68, 'mom', 1.71, 'dad', 1.86]\n"
     ]
    }
   ],
   "source": [
    "# List manipulation\n",
    "fam_uk = [\"liz\", 1.73, \"emma\", 1.68, \"mom\", 1.71, \"dad\", 1.89]\n",
    "\n",
    "#changing value of list using indexing\n",
    "fam_uk[7] = 1.86\n",
    "print(fam_uk)\n",
    "\n",
    "#changing value of list using slicing\n",
    "fam_uk[:2] = [\"lisa\",1.74]\n",
    "print(fam_uk)\n",
    "\n",
    "fam_uk_ext = fam_uk + [\"me\",1.79]\n",
    "print(fam_uk_ext)\n",
    "\n",
    "#removing value from list using indexing\n",
    "del(fam_uk[2])\n",
    "print(fam_uk)"
   ]
  },
  {
   "cell_type": "code",
   "execution_count": 36,
   "metadata": {},
   "outputs": [
    {
     "name": "stdout",
     "output_type": "stream",
     "text": [
      "['a', 'z', 'c']\n",
      "['a', 'z', 'c']\n"
     ]
    }
   ],
   "source": [
    "# Behind the scene of list manipulation\n",
    "x = ['a','b','c']\n",
    "y = x\n",
    "y[1] = 'z'\n",
    "print(y)\n",
    "print(x)\n",
    "# Here we see that both y and x have become same "
   ]
  },
  {
   "cell_type": "code",
   "execution_count": 4,
   "metadata": {},
   "outputs": [
    {
     "name": "stdout",
     "output_type": "stream",
     "text": [
      "['a', 'b', 'c']\n",
      "['a', 'z', 'c']\n"
     ]
    }
   ],
   "source": [
    "x = ['a','b','c']\n",
    "y = list(x)\n",
    "y = x[:]\n",
    "y[1] = 'z'\n",
    "print(x)\n",
    "print(y)\n",
    "# By using list() we got different values for both x and y list although y has been created using x"
   ]
  },
  {
   "cell_type": "code",
   "execution_count": 5,
   "metadata": {},
   "outputs": [
    {
     "ename": "TypeError",
     "evalue": "unsupported operand type(s) for ** or pow(): 'list' and 'int'",
     "output_type": "error",
     "traceback": [
      "\u001b[1;31m---------------------------------------------------------------------------\u001b[0m",
      "\u001b[1;31mTypeError\u001b[0m                                 Traceback (most recent call last)",
      "\u001b[1;32m<ipython-input-5-59e66300dc9a>\u001b[0m in \u001b[0;36m<module>\u001b[1;34m()\u001b[0m\n\u001b[0;32m      2\u001b[0m \u001b[0mheight\u001b[0m \u001b[1;33m=\u001b[0m \u001b[1;33m[\u001b[0m\u001b[1;36m1.73\u001b[0m\u001b[1;33m,\u001b[0m \u001b[1;36m1.68\u001b[0m\u001b[1;33m,\u001b[0m \u001b[1;36m1.71\u001b[0m\u001b[1;33m,\u001b[0m \u001b[1;36m1.89\u001b[0m\u001b[1;33m,\u001b[0m \u001b[1;36m1.79\u001b[0m\u001b[1;33m]\u001b[0m\u001b[1;33m\u001b[0m\u001b[0m\n\u001b[0;32m      3\u001b[0m \u001b[0mweight\u001b[0m \u001b[1;33m=\u001b[0m \u001b[1;33m[\u001b[0m\u001b[1;36m65.4\u001b[0m\u001b[1;33m,\u001b[0m \u001b[1;36m59.2\u001b[0m\u001b[1;33m,\u001b[0m \u001b[1;36m63.6\u001b[0m\u001b[1;33m,\u001b[0m \u001b[1;36m88.4\u001b[0m\u001b[1;33m,\u001b[0m \u001b[1;36m68.7\u001b[0m\u001b[1;33m]\u001b[0m\u001b[1;33m\u001b[0m\u001b[0m\n\u001b[1;32m----> 4\u001b[1;33m \u001b[0mbmi\u001b[0m \u001b[1;33m=\u001b[0m \u001b[0mweight\u001b[0m\u001b[1;33m/\u001b[0m\u001b[0mheight\u001b[0m\u001b[1;33m**\u001b[0m\u001b[1;36m2\u001b[0m\u001b[1;33m\u001b[0m\u001b[0m\n\u001b[0m\u001b[0;32m      5\u001b[0m \u001b[0mprint\u001b[0m\u001b[1;33m(\u001b[0m\u001b[0mbmi\u001b[0m\u001b[1;33m)\u001b[0m\u001b[1;33m\u001b[0m\u001b[0m\n\u001b[0;32m      6\u001b[0m \u001b[1;31m# List can not be used to perform numeric operations\u001b[0m\u001b[1;33m\u001b[0m\u001b[1;33m\u001b[0m\u001b[0m\n",
      "\u001b[1;31mTypeError\u001b[0m: unsupported operand type(s) for ** or pow(): 'list' and 'int'"
     ]
    }
   ],
   "source": [
    "# Numpy : Numeric Python , similar to list but unlike list it can be used for numeric calculations\n",
    "height = [1.73, 1.68, 1.71, 1.89, 1.79]\n",
    "weight = [65.4, 59.2, 63.6, 88.4, 68.7]\n",
    "bmi = weight/height**2\n",
    "print(bmi)\n",
    "# List can not be used to perform numeric operations"
   ]
  },
  {
   "cell_type": "code",
   "execution_count": 9,
   "metadata": {},
   "outputs": [
    {
     "name": "stdout",
     "output_type": "stream",
     "text": [
      "<class 'numpy.ndarray'>\n",
      "[21.85171573 20.97505669 21.75028214 24.7473475  21.44127836]\n"
     ]
    },
    {
     "data": {
      "text/plain": [
       "21.85171572722109"
      ]
     },
     "execution_count": 9,
     "metadata": {},
     "output_type": "execute_result"
    }
   ],
   "source": [
    "# To perform numeric operation using list we convert them into numpy array\n",
    "import numpy as np\n",
    "np_height = np.array(height)\n",
    "np_weight = np.array(weight)\n",
    "bmi=np_weight/np_height**2\n",
    "print(type(bmi))\n",
    "print(bmi)\n",
    "# It performs element-wise operation \n",
    "65.4/1.73**2"
   ]
  },
  {
   "cell_type": "code",
   "execution_count": 44,
   "metadata": {},
   "outputs": [
    {
     "ename": "ValueError",
     "evalue": "only 2 non-keyword arguments accepted",
     "output_type": "error",
     "traceback": [
      "\u001b[1;31m---------------------------------------------------------------------------\u001b[0m",
      "\u001b[1;31mValueError\u001b[0m                                Traceback (most recent call last)",
      "\u001b[1;32m<ipython-input-44-106640abe1d5>\u001b[0m in \u001b[0;36m<module>\u001b[1;34m()\u001b[0m\n\u001b[0;32m      1\u001b[0m \u001b[1;31m# Numpy accepts only one type of value\u001b[0m\u001b[1;33m\u001b[0m\u001b[1;33m\u001b[0m\u001b[0m\n\u001b[1;32m----> 2\u001b[1;33m \u001b[0mnp\u001b[0m\u001b[1;33m.\u001b[0m\u001b[0marray\u001b[0m\u001b[1;33m(\u001b[0m\u001b[1;36m1.0\u001b[0m\u001b[1;33m,\u001b[0m\u001b[1;34m\"is\"\u001b[0m\u001b[1;33m,\u001b[0m\u001b[1;32mTrue\u001b[0m\u001b[1;33m)\u001b[0m\u001b[1;33m\u001b[0m\u001b[0m\n\u001b[0m",
      "\u001b[1;31mValueError\u001b[0m: only 2 non-keyword arguments accepted"
     ]
    }
   ],
   "source": [
    "# Numpy accepts only one type of value unlike list which can contain any type of value\n",
    "np.array(1.0,\"is\",True)"
   ]
  },
  {
   "cell_type": "code",
   "execution_count": 5,
   "metadata": {},
   "outputs": [
    {
     "name": "stdout",
     "output_type": "stream",
     "text": [
      "[1, 2, 3, 1, 2, 3]\n",
      "[2 4 6]\n"
     ]
    }
   ],
   "source": [
    "# Different types have differet behaviour\n",
    "# Lists are concated but numpy arrays are added \n",
    "import numpy as np\n",
    "list = [1,2,3]\n",
    "print(list+list)\n",
    "\n",
    "numpy_array = np.array([1,2,3])\n",
    "print(numpy_array+numpy_array)"
   ]
  },
  {
   "cell_type": "markdown",
   "metadata": {},
   "source": [
    "<h2> 4. Numpy"
   ]
  },
  {
   "cell_type": "code",
   "execution_count": 17,
   "metadata": {},
   "outputs": [
    {
     "name": "stdout",
     "output_type": "stream",
     "text": [
      "[21.85171573 20.97505669 21.75028214 24.7473475  21.44127836]\n",
      "20.97505668934241\n",
      "[False False False  True False]\n",
      "[24.7473475]\n"
     ]
    },
    {
     "data": {
      "text/plain": [
       "(5,)"
      ]
     },
     "execution_count": 17,
     "metadata": {},
     "output_type": "execute_result"
    }
   ],
   "source": [
    "# Like list Numpy can also be indexed\n",
    "print(bmi)\n",
    "print(bmi[1])\n",
    "print(bmi>23)\n",
    "print(bmi[bmi>23])\n",
    "bmi.shape"
   ]
  },
  {
   "cell_type": "code",
   "execution_count": 46,
   "metadata": {},
   "outputs": [
    {
     "name": "stdout",
     "output_type": "stream",
     "text": [
      "[[ 1.73  1.68  1.71  1.89  1.79]\n",
      " [65.4  59.2  63.6  88.4  68.7 ]]\n",
      "<class 'numpy.ndarray'>\n",
      "[['1.73' '1.68' '1.71' '1.89' '1.79']\n",
      " ['65.4' '59.2' '63.6' '88.4' '68.7']]\n",
      "<class 'numpy.ndarray'>\n"
     ]
    },
    {
     "data": {
      "text/plain": [
       "(2, 5)"
      ]
     },
     "execution_count": 46,
     "metadata": {},
     "output_type": "execute_result"
    }
   ],
   "source": [
    "# 2-D Numpy array\n",
    "np_2d = np.array([[1.73, 1.68, 1.71, 1.89, 1.79],[65.4, 59.2, 63.6, 88.4, 68.7]])\n",
    "print(np_2d)\n",
    "print(type(np_2d))\n",
    "\n",
    "# If you convert one element in an array to string all other will also be converted into string as shown below\n",
    "np_2d_stringType = np.array([[1.73, 1.68, 1.71, 1.89, 1.79],[65.4, 59.2, 63.6, 88.4, \"68.7\"]])\n",
    "print(np_2d_stringType)\n",
    "print(type(np_2d_stringType))\n",
    "\n",
    "np_2d.shape"
   ]
  },
  {
   "cell_type": "code",
   "execution_count": 33,
   "metadata": {},
   "outputs": [
    {
     "name": "stdout",
     "output_type": "stream",
     "text": [
      "[1.73 1.68 1.71 1.89 1.79]\n",
      "['1.73' '1.68' '1.71' '1.89' '1.79']\n",
      "1.68\n",
      "1.71\n",
      "[[ 1.68  1.71]\n",
      " [59.2  63.6 ]]\n"
     ]
    }
   ],
   "source": [
    "# Subsetting of an array \n",
    "# [1.73, 1.68, 1.71, 1.89, 1.79]\n",
    "# [65.4, 59.2, 63.6, 88.4, 68.7]\n",
    "print(np_2d[0])\n",
    "print(np_2d_stringType[0]) \n",
    "print(np_2d[0][1])\n",
    "print(np_2d[0,2])\n",
    "print(np_2d[:,1:3])"
   ]
  },
  {
   "cell_type": "code",
   "execution_count": null,
   "metadata": {},
   "outputs": [],
   "source": [
    "# Basic statistics with Numpy \n",
    "# Using Numpy to perform basic mean, median , correlation \n",
    "\n",
    "\n"
   ]
  },
  {
   "cell_type": "code",
   "execution_count": 64,
   "metadata": {},
   "outputs": [
    {
     "data": {
      "text/plain": [
       "array([4, 1, 6, 8, 5, 7, 7, 1, 2, 5])"
      ]
     },
     "execution_count": 64,
     "metadata": {},
     "output_type": "execute_result"
    }
   ],
   "source": [
    "# Random number generation using numpy.random\n",
    "# 1-D array generation\n",
    "import numpy as np\n",
    "np.random.randint(low = 1, high = 10, size = 10)   #low is inclusive, high is exclusive"
   ]
  },
  {
   "cell_type": "code",
   "execution_count": 66,
   "metadata": {},
   "outputs": [
    {
     "data": {
      "text/plain": [
       "array([[18, 19, 11, 16,  5],\n",
       "       [14,  6, 16, 12, 19],\n",
       "       [10, 11, 17, 19, 14],\n",
       "       [ 8, 10,  6, 22, 16]])"
      ]
     },
     "execution_count": 66,
     "metadata": {},
     "output_type": "execute_result"
    }
   ],
   "source": [
    "# 2-D array generation\n",
    "np.random.randint(low = 5,high = 25,size = (4,5))"
   ]
  },
  {
   "cell_type": "code",
   "execution_count": 7,
   "metadata": {},
   "outputs": [
    {
     "data": {
      "text/plain": [
       "10"
      ]
     },
     "execution_count": 7,
     "metadata": {},
     "output_type": "execute_result"
    }
   ],
   "source": [
    "# high as inclusive\n",
    "np.random.randint(0,10 + 1)   # Using 10+1 we can generate upto 10"
   ]
  },
  {
   "cell_type": "code",
   "execution_count": 13,
   "metadata": {},
   "outputs": [
    {
     "data": {
      "text/plain": [
       "10"
      ]
     },
     "execution_count": 13,
     "metadata": {},
     "output_type": "execute_result"
    }
   ],
   "source": [
    "len(np.random.randint(1,20,10))"
   ]
  },
  {
   "cell_type": "code",
   "execution_count": 126,
   "metadata": {},
   "outputs": [
    {
     "name": "stdout",
     "output_type": "stream",
     "text": [
      "[[ 0.47298583 -0.68142588  0.2424395 ]\n",
      " [-1.70073563  0.75314283 -1.53472134]]\n",
      "[[-9.05577486 -9.14726446 -9.99774077]\n",
      " [-9.47877397 -9.44796237 -9.51462259]]\n",
      "[0.76813415 0.16071675 0.76456045 0.0208098  0.13521018 0.11627302\n",
      " 0.30989758 0.67145265 0.47122978 0.8161683 ]\n"
     ]
    }
   ],
   "source": [
    "# Random number of any shape\n",
    "np.random.seed(12)\n",
    "print(np.random.randn(2,3))\n",
    "print(np.random.rand(2,3)-10)\n",
    "print(np.random.random(10))  # random array creation using np.random.random"
   ]
  },
  {
   "cell_type": "code",
   "execution_count": null,
   "metadata": {},
   "outputs": [],
   "source": []
  }
 ],
 "metadata": {
  "kernelspec": {
   "display_name": "Python 3",
   "language": "python",
   "name": "python3"
  },
  "language_info": {
   "codemirror_mode": {
    "name": "ipython",
    "version": 3
   },
   "file_extension": ".py",
   "mimetype": "text/x-python",
   "name": "python",
   "nbconvert_exporter": "python",
   "pygments_lexer": "ipython3",
   "version": "3.7.0"
  }
 },
 "nbformat": 4,
 "nbformat_minor": 2
}
